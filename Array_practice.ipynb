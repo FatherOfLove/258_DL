{
  "nbformat": 4,
  "nbformat_minor": 0,
  "metadata": {
    "colab": {
      "name": "Untitled1.ipynb",
      "provenance": [],
      "authorship_tag": "ABX9TyN+AK2qaCt3+UfzO93jwsnG",
      "include_colab_link": true
    },
    "kernelspec": {
      "name": "python3",
      "display_name": "Python 3"
    }
  },
  "cells": [
    {
      "cell_type": "markdown",
      "metadata": {
        "id": "view-in-github",
        "colab_type": "text"
      },
      "source": [
        "<a href=\"https://colab.research.google.com/github/FatherOfLove/258_DL/blob/master/Array_practice.ipynb\" target=\"_parent\"><img src=\"https://colab.research.google.com/assets/colab-badge.svg\" alt=\"Open In Colab\"/></a>"
      ]
    },
    {
      "cell_type": "code",
      "metadata": {
        "id": "0CMiof_2La3v",
        "colab_type": "code",
        "colab": {
          "base_uri": "https://localhost:8080/",
          "height": 85
        },
        "outputId": "5aa7f8a3-683d-4aab-9ef0-6ecb71c5ee70"
      },
      "source": [
        "import numpy as np\n",
        "\n",
        "nums = [\n",
        "    [10, 20, 30, 40],\n",
        "    [50, 60, 70, 80],\n",
        "    [90, 100, 110, 120],\n",
        "    [130, 140, 150, 160]\n",
        "]\n",
        "print(\"Original List:\",nums)\n",
        "result = []\n",
        "for sublist in nums:\n",
        "    for item in sublist:\n",
        "        result.append(item)\n",
        "print(\"\\nCollapse nested lists:\")\n",
        "print(result)"
      ],
      "execution_count": 1,
      "outputs": [
        {
          "output_type": "stream",
          "text": [
            "Original List: [[10, 20, 30, 40], [50, 60, 70, 80], [90, 100, 110, 120], [130, 140, 150, 160]]\n",
            "\n",
            "Collapse nested lists:\n",
            "[10, 20, 30, 40, 50, 60, 70, 80, 90, 100, 110, 120, 130, 140, 150, 160]\n"
          ],
          "name": "stdout"
        }
      ]
    },
    {
      "cell_type": "code",
      "metadata": {
        "id": "AJ48kwq1LeoR",
        "colab_type": "code",
        "colab": {
          "base_uri": "https://localhost:8080/",
          "height": 51
        },
        "outputId": "3200de9a-176d-4d1b-eea3-dbb36b38089e"
      },
      "source": [
        "import array as arr \n",
        "  \n",
        "# creating an array with integer type \n",
        "a = arr.array('i', [1, 2, 3]) \n",
        "  \n",
        "# printing original array \n",
        "print (\"The new created array is : \", end =\" \") \n",
        "for i in range (0, 3): \n",
        "    print (a[i], end =\" \") \n",
        "print() \n",
        "  \n",
        "# creating an array with float type \n",
        "b = arr.array('d', [2.5, 3.2, 3.3]) \n",
        "  \n",
        "# printing original array \n",
        "print (\"The new created array is : \", end =\" \") \n",
        "for i in range (0, 3): \n",
        "    print (b[i], end =\" \") "
      ],
      "execution_count": 2,
      "outputs": [
        {
          "output_type": "stream",
          "text": [
            "The new created array is :  1 2 3 \n",
            "The new created array is :  2.5 3.2 3.3 "
          ],
          "name": "stdout"
        }
      ]
    },
    {
      "cell_type": "code",
      "metadata": {
        "id": "ssK5Y-BuL4v4",
        "colab_type": "code",
        "colab": {
          "base_uri": "https://localhost:8080/",
          "height": 85
        },
        "outputId": "51d2a77c-3613-4114-eda2-065827a6db49"
      },
      "source": [
        "a = arr.array('i', [1, 2, 3]) \n",
        "  \n",
        "  \n",
        "print (\"Array before insertion : \", end =\" \") \n",
        "for i in range (0, 3): \n",
        "    print (a[i], end =\" \") \n",
        "print() \n",
        "  \n",
        "# inserting array using  \n",
        "# insert() function \n",
        "a.insert(1, 4) \n",
        "  \n",
        "print (\"Array after insertion : \", end =\" \") \n",
        "for i in (a): \n",
        "    print (i, end =\" \") \n",
        "print()  \n",
        "  \n",
        "# array with float type \n",
        "b = arr.array('d', [2.5, 3.2, 3.3]) \n",
        "  \n",
        "print (\"Array before insertion : \", end =\" \") \n",
        "for i in range (0, 3): \n",
        "    print (b[i], end =\" \") \n",
        "print() \n",
        "  \n",
        "# adding an element using append() \n",
        "b.append(4.4) \n",
        "  \n",
        "print (\"Array after insertion : \", end =\" \") \n",
        "for i in (b): \n",
        "    print (i, end =\" \") \n",
        "print()  "
      ],
      "execution_count": 3,
      "outputs": [
        {
          "output_type": "stream",
          "text": [
            "Array before insertion :  1 2 3 \n",
            "Array after insertion :  1 4 2 3 \n",
            "Array before insertion :  2.5 3.2 3.3 \n",
            "Array after insertion :  2.5 3.2 3.3 4.4 \n"
          ],
          "name": "stdout"
        }
      ]
    },
    {
      "cell_type": "code",
      "metadata": {
        "id": "oC4Kz4YnL8Yy",
        "colab_type": "code",
        "colab": {
          "base_uri": "https://localhost:8080/",
          "height": 85
        },
        "outputId": "48baac95-7465-4af2-813d-d67e7b91697f"
      },
      "source": [
        "a = arr.array('i', [1, 2, 3, 4, 5, 6]) \n",
        "  \n",
        "# accessing element of array \n",
        "print(\"Access element is: \", a[0]) \n",
        "  \n",
        "# accessing element of array \n",
        "print(\"Access element is: \", a[3]) \n",
        "  \n",
        "# array with float type \n",
        "b = arr.array('d', [2.5, 3.2, 3.3]) \n",
        "  \n",
        "# accessing element of array \n",
        "print(\"Access element is: \", b[1]) \n",
        "  \n",
        "# accessing element of array \n",
        "print(\"Access element is: \", b[2]) "
      ],
      "execution_count": 4,
      "outputs": [
        {
          "output_type": "stream",
          "text": [
            "Access element is:  1\n",
            "Access element is:  4\n",
            "Access element is:  3.2\n",
            "Access element is:  3.3\n"
          ],
          "name": "stdout"
        }
      ]
    },
    {
      "cell_type": "code",
      "metadata": {
        "id": "78U-pYjKMAKU",
        "colab_type": "code",
        "colab": {
          "base_uri": "https://localhost:8080/",
          "height": 85
        },
        "outputId": "84d13042-7778-46f6-8134-26f36393d345"
      },
      "source": [
        "import array \n",
        "   \n",
        "# initializing array with array values \n",
        "# initializes array with signed integers \n",
        "arr = array.array('i', [1, 2, 3, 1, 5])  \n",
        "  \n",
        "# printing original array \n",
        "print (\"The new created array is : \", end =\"\") \n",
        "for i in range (0, 5): \n",
        "    print (arr[i], end =\" \") \n",
        "  \n",
        "print (\"\\r\") \n",
        "  \n",
        "# using pop() to remove element at 2nd position \n",
        "print (\"The popped element is : \", end =\"\") \n",
        "print (arr.pop(2)) \n",
        "  \n",
        "# printing array after popping \n",
        "print (\"The array after popping is : \", end =\"\") \n",
        "for i in range (0, 4): \n",
        "    print (arr[i], end =\" \") \n",
        "  \n",
        "print(\"\\r\") \n",
        "  \n",
        "# using remove() to remove 1st occurrence of 1 \n",
        "arr.remove(1) \n",
        "  \n",
        "# printing array after removing \n",
        "print (\"The array after removing is : \", end =\"\") \n",
        "for i in range (0, 3): \n",
        "    print (arr[i], end =\" \") "
      ],
      "execution_count": 5,
      "outputs": [
        {
          "output_type": "stream",
          "text": [
            "The new created array is : 1 2 3 1 5 \r\n",
            "The popped element is : 3\n",
            "The array after popping is : 1 2 1 5 \r\n",
            "The array after removing is : 2 1 5 "
          ],
          "name": "stdout"
        }
      ]
    },
    {
      "cell_type": "code",
      "metadata": {
        "id": "ovG3qx2YMC0p",
        "colab_type": "code",
        "colab": {}
      },
      "source": [
        "import numpy as np\n",
        "np.random.seed(0)  # seed for reproducibility\n",
        "\n",
        "x1 = np.random.randint(10, size=6)  # One-dimensional array\n",
        "x2 = np.random.randint(10, size=(3, 4))  # Two-dimensional array\n",
        "x3 = np.random.randint(10, size=(3, 4, 5))  # Three-dimensional array"
      ],
      "execution_count": 0,
      "outputs": []
    },
    {
      "cell_type": "code",
      "metadata": {
        "id": "6OckpQHDMJ8-",
        "colab_type": "code",
        "colab": {
          "base_uri": "https://localhost:8080/",
          "height": 68
        },
        "outputId": "aceb3048-9faa-402f-abfc-d9b74a12ccbb"
      },
      "source": [
        "print(\"x3 ndim: \", x3.ndim)\n",
        "print(\"x3 shape:\", x3.shape)\n",
        "print(\"x3 size: \", x3.size)"
      ],
      "execution_count": 7,
      "outputs": [
        {
          "output_type": "stream",
          "text": [
            "x3 ndim:  3\n",
            "x3 shape: (3, 4, 5)\n",
            "x3 size:  60\n"
          ],
          "name": "stdout"
        }
      ]
    },
    {
      "cell_type": "code",
      "metadata": {
        "id": "edfNQ1j9MSNa",
        "colab_type": "code",
        "colab": {
          "base_uri": "https://localhost:8080/",
          "height": 34
        },
        "outputId": "950fdd1c-c256-4806-aa27-bcd3a06d8ce2"
      },
      "source": [
        "x1"
      ],
      "execution_count": 8,
      "outputs": [
        {
          "output_type": "execute_result",
          "data": {
            "text/plain": [
              "array([5, 0, 3, 3, 7, 9])"
            ]
          },
          "metadata": {
            "tags": []
          },
          "execution_count": 8
        }
      ]
    },
    {
      "cell_type": "code",
      "metadata": {
        "id": "I52DaOEqMXFN",
        "colab_type": "code",
        "colab": {
          "base_uri": "https://localhost:8080/",
          "height": 68
        },
        "outputId": "99f74fad-7bd5-4a60-e686-91d2af55c2fe"
      },
      "source": [
        "x2"
      ],
      "execution_count": 9,
      "outputs": [
        {
          "output_type": "execute_result",
          "data": {
            "text/plain": [
              "array([[3, 5, 2, 4],\n",
              "       [7, 6, 8, 8],\n",
              "       [1, 6, 7, 7]])"
            ]
          },
          "metadata": {
            "tags": []
          },
          "execution_count": 9
        }
      ]
    },
    {
      "cell_type": "code",
      "metadata": {
        "id": "MN3M88QaMY_6",
        "colab_type": "code",
        "colab": {
          "base_uri": "https://localhost:8080/",
          "height": 68
        },
        "outputId": "585716e2-3757-4c82-928f-b69e0552429d"
      },
      "source": [
        "x2[0, 0] = 12\n",
        "x2"
      ],
      "execution_count": 10,
      "outputs": [
        {
          "output_type": "execute_result",
          "data": {
            "text/plain": [
              "array([[12,  5,  2,  4],\n",
              "       [ 7,  6,  8,  8],\n",
              "       [ 1,  6,  7,  7]])"
            ]
          },
          "metadata": {
            "tags": []
          },
          "execution_count": 10
        }
      ]
    },
    {
      "cell_type": "code",
      "metadata": {
        "id": "Rohmw9zjMbE-",
        "colab_type": "code",
        "colab": {}
      },
      "source": [
        ""
      ],
      "execution_count": 0,
      "outputs": []
    }
  ]
}